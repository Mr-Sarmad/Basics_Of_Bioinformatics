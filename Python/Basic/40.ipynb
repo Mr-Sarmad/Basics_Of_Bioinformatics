{
 "cells": [
  {
   "cell_type": "markdown",
   "metadata": {},
   "source": [
    "### Convert RNA sequences into DNA sequences"
   ]
  },
  {
   "cell_type": "code",
   "execution_count": 2,
   "metadata": {},
   "outputs": [
    {
     "name": "stdout",
     "output_type": "stream",
     "text": [
      "ATGAGACAGCTAGCGAAGGATATCGATGCTTTTTTGAATGAGGTGATTTTGCAGGCAGAAAATCAGCATGAAATCCTAATAGGTCATTGCACTAGCGAGGTGGCTCTGACCAATACCCAGGAGCATATCCTCATGCTCTTGTCAGAGGAATCTTTAACAAATTCAGAGTTGGCCCGTCGTCTCAATGTCAGTCAGGCGGCAGTTACCAAGGCTATTAAGTCTTTGGTCAAGGAAGGGATGTTGGAAACATCTAAAGATCCTAAGGATGCGCGTGTAATTTTTTATCAGTTGACTGATTTGGCTCGTCCAATTGCTGAGGAGCATCATCATCACCATGAGCATACACTTTTAACCTATGAACAAGTGGCTACTCAGTTTACTCCAAATGAACAAAAAGTGATTCAGCGGTTTTTGACTGCTTTAGTAGGAGAAATCAAATAA\n"
     ]
    }
   ],
   "source": [
    "from Bio import SeqIO\n",
    "def rna_to_dna(rna_sequence):\n",
    "    return rna_sequence.replace(\"U\", \"T\")\n",
    "\n",
    "fasta_file = \"C:/Users/PC/Downloads/sequence (3).fasta\"\n",
    "for record in SeqIO.parse(fasta_file, \"fasta\"):\n",
    "    dna_sequence = str(record.seq)\n",
    "print(rna_to_dna(dna_sequence))\n"
   ]
  }
 ],
 "metadata": {
  "kernelspec": {
   "display_name": "Python 3",
   "language": "python",
   "name": "python3"
  },
  "language_info": {
   "codemirror_mode": {
    "name": "ipython",
    "version": 3
   },
   "file_extension": ".py",
   "mimetype": "text/x-python",
   "name": "python",
   "nbconvert_exporter": "python",
   "pygments_lexer": "ipython3",
   "version": "3.11.5"
  }
 },
 "nbformat": 4,
 "nbformat_minor": 2
}
