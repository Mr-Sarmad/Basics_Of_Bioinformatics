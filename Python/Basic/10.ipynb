{
 "cells": [
  {
   "cell_type": "markdown",
   "metadata": {},
   "source": [
    "### Rename the headers in a FASTA file using a predefined mapping file"
   ]
  },
  {
   "cell_type": "code",
   "execution_count": 2,
   "metadata": {},
   "outputs": [
    {
     "name": "stdout",
     "output_type": "stream",
     "text": [
      "Skipping invalid line: NC_000022.11:23180509-23318037 Homo sapiens chromosome 22, GRCh38.p14 Primary Assembly\tSeq_1\n",
      ">NZ_CP012646.1:451372-451812\n",
      "ATGAGACAGCTAGCGAAGGATATCGATGCTTTTTTGAATGAGGTGATTTTGCAGGCAGAAAATCAGCATGAAATCCTAATAGGTCATTGCACTAGCGAGGTGGCTCTGACCAATACCCAGGAGCATATCCTCATGCTCTTGTCAGAGGAATCTTTAACAAATTCAGAGTTGGCCCGTCGTCTCAATGTCAGTCAGGCGGCAGTTACCAAGGCTATTAAGTCTTTGGTCAAGGAAGGGATGTTGGAAACATCTAAAGATCCTAAGGATGCGCGTGTAATTTTTTATCAGTTGACTGATTTGGCTCGTCCAATTGCTGAGGAGCATCATCATCACCATGAGCATACACTTTTAACCTATGAACAAGTGGCTACTCAGTTTACTCCAAATGAACAAAAAGTGATTCAGCGGTTTTTGACTGCTTTAGTAGGAGAAATCAAATAA\n"
     ]
    }
   ],
   "source": [
    "from Bio import SeqIO\n",
    "header_map = {}\n",
    "with open(\"C:/Users/PC/Downloads/header_mapping.txt\") as f:\n",
    "    for line in f:\n",
    "        parts = line.strip().split()\n",
    "        if len(parts) == 2: \n",
    "            old_id, new_id = parts\n",
    "            header_map[old_id] = new_id\n",
    "        else:\n",
    "            print(f\"Skipping invalid line: {line.strip()}\")\n",
    "for record in SeqIO.parse(\"C:/Users/PC/Downloads/sequence (3).fasta\", \"fasta\"):\n",
    "    if record.id in header_map:\n",
    "        record.id = header_map[record.id]\n",
    "        record.description = \"\"\n",
    "    print(f\">{record.id}\\n{record.seq}\")\n"
   ]
  }
 ],
 "metadata": {
  "kernelspec": {
   "display_name": "Python 3",
   "language": "python",
   "name": "python3"
  },
  "language_info": {
   "codemirror_mode": {
    "name": "ipython",
    "version": 3
   },
   "file_extension": ".py",
   "mimetype": "text/x-python",
   "name": "python",
   "nbconvert_exporter": "python",
   "pygments_lexer": "ipython3",
   "version": "3.11.5"
  }
 },
 "nbformat": 4,
 "nbformat_minor": 2
}
