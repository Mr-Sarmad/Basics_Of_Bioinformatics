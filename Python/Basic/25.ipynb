{
 "cells": [
  {
   "cell_type": "markdown",
   "metadata": {},
   "source": [
    "### Retrieve GO Terms Associated with Gene IDs"
   ]
  },
  {
   "cell_type": "code",
   "execution_count": 2,
   "metadata": {},
   "outputs": [
    {
     "name": "stdout",
     "output_type": "stream",
     "text": [
      "ENSG00000139618: No GO terms found\n",
      "ENSG00000157764: No GO terms found\n"
     ]
    }
   ],
   "source": [
    "import requests\n",
    "\n",
    "# List of Ensembl gene IDs\n",
    "gene_ids = [\"ENSG00000139618\", \"ENSG00000157764\"]\n",
    "\n",
    "# Base URL for Ensembl REST API\n",
    "base_url = \"https://rest.ensembl.org/xrefs/id\"\n",
    "\n",
    "# Dictionary to store results\n",
    "gene_go_mapping = {}\n",
    "\n",
    "for gene_id in gene_ids:\n",
    "    url = f\"{base_url}/{gene_id}?content-type=application/json\"\n",
    "    try:\n",
    "        response = requests.get(url, timeout=10)  # Set a timeout to handle delays\n",
    "        if response.status_code == 200:\n",
    "            data = response.json()\n",
    "            go_ids = [entry['primary_id'] for entry in data if entry.get('db_display_name') == 'GO']\n",
    "            gene_go_mapping[gene_id] = go_ids if go_ids else \"No GO terms found\"\n",
    "        else:\n",
    "            print(f\"Failed for {gene_id}: {response.status_code} - {response.text}\")\n",
    "    except Exception as e:\n",
    "        print(f\"Error fetching data for {gene_id}: {e}\")\n",
    "\n",
    "# Print the results\n",
    "for gene_id, go_terms in gene_go_mapping.items():\n",
    "    print(f\"{gene_id}: {go_terms}\")\n"
   ]
  }
 ],
 "metadata": {
  "kernelspec": {
   "display_name": "Python 3",
   "language": "python",
   "name": "python3"
  },
  "language_info": {
   "codemirror_mode": {
    "name": "ipython",
    "version": 3
   },
   "file_extension": ".py",
   "mimetype": "text/x-python",
   "name": "python",
   "nbconvert_exporter": "python",
   "pygments_lexer": "ipython3",
   "version": "3.11.5"
  }
 },
 "nbformat": 4,
 "nbformat_minor": 2
}
