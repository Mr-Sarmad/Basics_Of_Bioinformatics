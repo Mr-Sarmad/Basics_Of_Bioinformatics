{
 "cells": [
  {
   "cell_type": "markdown",
   "metadata": {},
   "source": [
    "### Parse BLAST Output to Extract Top Hits"
   ]
  },
  {
   "cell_type": "code",
   "execution_count": 3,
   "metadata": {},
   "outputs": [
    {
     "name": "stdout",
     "output_type": "stream",
     "text": [
      "Data preview:\n",
      "                   0                        1                2          3   \\\n",
      "0  Assembly Accession  Assembly-unit accession  Chromosome name   GC Count   \n",
      "1    GCF_000001405.40         Primary Assembly                1  103674491   \n",
      "2    GCF_000001405.40         Primary Assembly                2  101284083   \n",
      "3    GCF_000001405.40         Primary Assembly                3   91922884   \n",
      "4    GCF_000001405.40         Primary Assembly                4   76972588   \n",
      "\n",
      "           4                      5              6         7   \\\n",
      "0  GC Percent  GenBank seq accession  Molecule type  Ordering   \n",
      "1        41.5             CM000663.2     Chromosome       NaN   \n",
      "2        40.5             CM000664.2     Chromosome       NaN   \n",
      "3          40             CM000665.2     Chromosome       NaN   \n",
      "4        38.5             CM000666.2     Chromosome       NaN   \n",
      "\n",
      "                     8                   9           10               11  \\\n",
      "0  RefSeq seq accession                Role  Seq length  UCSC style name   \n",
      "1          NC_000001.11  assembled-molecule   248956422             chr1   \n",
      "2          NC_000002.12  assembled-molecule   242193529             chr2   \n",
      "3          NC_000003.12  assembled-molecule   198295559             chr3   \n",
      "4          NC_000004.12  assembled-molecule   190214555             chr4   \n",
      "\n",
      "                  12             13  \n",
      "0  Unlocalized Count  Sequence name  \n",
      "1                  9              1  \n",
      "2                  2              2  \n",
      "3                  1              3  \n",
      "4                  1              4  \n",
      "Number of columns: 14\n",
      "Column count mismatch! Adjusting column names programmatically.\n",
      "Assigned columns: Index(['col_0', 'col_1', 'col_2', 'col_3', 'col_4', 'col_5', 'col_6', 'col_7',\n",
      "       'col_8', 'col_9', 'col_10', 'col_11', 'col_12', 'col_13'],\n",
      "      dtype='object')\n",
      "Required columns 'evalue' or 'query' are missing!\n"
     ]
    }
   ],
   "source": [
    "import pandas as pd\n",
    "\n",
    "# Load the file\n",
    "blast_file = \"C:/Users/PC/Downloads/sequence_report.tsv\"\n",
    "df = pd.read_csv(blast_file, sep=\"\\t\", header=None)\n",
    "\n",
    "# Inspect the first few rows and columns\n",
    "print(\"Data preview:\")\n",
    "print(df.head())\n",
    "print(\"Number of columns:\", df.shape[1])\n",
    "\n",
    "# Verify the expected columns\n",
    "expected_columns = [\n",
    "    \"query\", \"subject\", \"identity\", \"alignment_length\", \"mismatches\", \"gaps\",\n",
    "    \"q_start\", \"q_end\", \"s_start\", \"s_end\", \"evalue\", \"bit_score\"\n",
    "]\n",
    "\n",
    "if len(expected_columns) == df.shape[1]:\n",
    "    df.columns = expected_columns\n",
    "else:\n",
    "    print(\"Column count mismatch! Adjusting column names programmatically.\")\n",
    "    df.columns = [f\"col_{i}\" for i in range(df.shape[1])]\n",
    "\n",
    "# Confirm column names\n",
    "print(\"Assigned columns:\", df.columns)\n",
    "\n",
    "# Proceed with analysis\n",
    "if \"evalue\" in df.columns and \"query\" in df.columns:\n",
    "    top_hits = df.sort_values(\"evalue\").groupby(\"query\").first()\n",
    "    print(\"Top hits:\")\n",
    "    print(top_hits)\n",
    "else:\n",
    "    print(\"Required columns 'evalue' or 'query' are missing!\")\n"
   ]
  }
 ],
 "metadata": {
  "kernelspec": {
   "display_name": "Python 3",
   "language": "python",
   "name": "python3"
  },
  "language_info": {
   "codemirror_mode": {
    "name": "ipython",
    "version": 3
   },
   "file_extension": ".py",
   "mimetype": "text/x-python",
   "name": "python",
   "nbconvert_exporter": "python",
   "pygments_lexer": "ipython3",
   "version": "3.11.5"
  }
 },
 "nbformat": 4,
 "nbformat_minor": 2
}
