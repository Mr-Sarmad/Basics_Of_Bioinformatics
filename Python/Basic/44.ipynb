{
 "cells": [
  {
   "cell_type": "markdown",
   "metadata": {},
   "source": [
    "### Implement a Markov model to generate random DNA sequences"
   ]
  },
  {
   "cell_type": "code",
   "execution_count": null,
   "metadata": {},
   "outputs": [],
   "source": [
    "import numpy as np\n",
    "\n",
    "# Define the transition matrix (example)\n",
    "transition_matrix = {\n",
    "    'A': {'A': 0.3, 'C': 0.2, 'G': 0.2, 'T': 0.3},\n",
    "    'C': {'A': 0.2, 'C': 0.3, 'G': 0.3, 'T': 0.2},\n",
    "    'G': {'A': 0.3, 'C': 0.2, 'G': 0.2, 'T': 0.3},\n",
    "    'T': {'A': 0.2, 'C': 0.3, 'G': 0.3, 'T': 0.2}\n",
    "}\n",
    "\n",
    "# Function to generate random DNA sequence\n",
    "def generate_sequence(length=100):\n",
    "    current_base = 'A'\n",
    "    sequence = [current_base]\n",
    "    \n",
    "    for _ in range(length - 1):\n",
    "        next_base = np.random.choice(list(transition_matrix[current_base].keys()), \n",
    "                                     p=list(transition_matrix[current_base].values()))\n",
    "        sequence.append(next_base)\n",
    "        current_base = next_base\n",
    "    \n",
    "    return ''.join(sequence)\n",
    "\n",
    "# Generate random sequence\n",
    "sequence = generate_sequence(100)\n",
    "print(sequence)\n"
   ]
  }
 ],
 "metadata": {
  "kernelspec": {
   "display_name": "Python 3",
   "language": "python",
   "name": "python3"
  },
  "language_info": {
   "name": "python",
   "version": "3.11.5"
  }
 },
 "nbformat": 4,
 "nbformat_minor": 2
}
