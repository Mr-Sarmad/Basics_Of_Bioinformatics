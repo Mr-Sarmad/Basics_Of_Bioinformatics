{
 "cells": [
  {
   "cell_type": "markdown",
   "metadata": {},
   "source": [
    "### Merge multiple FASTA files into a single file"
   ]
  },
  {
   "cell_type": "code",
   "execution_count": 1,
   "metadata": {},
   "outputs": [],
   "source": [
    "from Bio import SeqIO\n",
    "with open(\"merged.fasta\", \"w\") as outfile:\n",
    "    for fasta_file in [\"C:/Users/PC/Downloads/sequence (3).fasta\", \"C:/Users/PC/Downloads/sequence (2).fasta\", \"C:/Users/PC/Downloads/sequence (1).fasta\"]:\n",
    "        for record in SeqIO.parse(fasta_file, \"fasta\"):\n",
    "            SeqIO.write(record, outfile, \"fasta\")\n"
   ]
  }
 ],
 "metadata": {
  "kernelspec": {
   "display_name": "Python 3",
   "language": "python",
   "name": "python3"
  },
  "language_info": {
   "codemirror_mode": {
    "name": "ipython",
    "version": 3
   },
   "file_extension": ".py",
   "mimetype": "text/x-python",
   "name": "python",
   "nbconvert_exporter": "python",
   "pygments_lexer": "ipython3",
   "version": "3.11.5"
  }
 },
 "nbformat": 4,
 "nbformat_minor": 2
}
