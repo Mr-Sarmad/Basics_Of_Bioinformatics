{
 "cells": [
  {
   "cell_type": "markdown",
   "metadata": {},
   "source": [
    "###  Reverse-complement DNA sequences in a FASTA file"
   ]
  },
  {
   "cell_type": "code",
   "execution_count": 1,
   "metadata": {},
   "outputs": [
    {
     "name": "stdout",
     "output_type": "stream",
     "text": [
      ">NZ_CP012646.1:451372-451812\n",
      "TTATTTGATTTCTCCTACTAAAGCAGTCAAAAACCGCTGAATCACTTTTTGTTCATTTGGAGTAAACTGAGTAGCCACTTGTTCATAGGTTAAAAGTGTATGCTCATGGTGATGATGATGCTCCTCAGCAATTGGACGAGCCAAATCAGTCAACTGATAAAAAATTACACGCGCATCCTTAGGATCTTTAGATGTTTCCAACATCCCTTCCTTGACCAAAGACTTAATAGCCTTGGTAACTGCCGCCTGACTGACATTGAGACGACGGGCCAACTCTGAATTTGTTAAAGATTCCTCTGACAAGAGCATGAGGATATGCTCCTGGGTATTGGTCAGAGCCACCTCGCTAGTGCAATGACCTATTAGGATTTCATGCTGATTTTCTGCCTGCAAAATCACCTCATTCAAAAAAGCATCGATATCCTTCGCTAGCTGTCTCAT\n"
     ]
    }
   ],
   "source": [
    "from Bio import SeqIO\n",
    "\n",
    "for record in SeqIO.parse(\"C:/Users/PC/Downloads/sequence (3).fasta\", \"fasta\"):\n",
    "    print(f\">{record.id}\")\n",
    "    print(record.seq.reverse_complement())\n"
   ]
  }
 ],
 "metadata": {
  "kernelspec": {
   "display_name": "Python 3",
   "language": "python",
   "name": "python3"
  },
  "language_info": {
   "codemirror_mode": {
    "name": "ipython",
    "version": 3
   },
   "file_extension": ".py",
   "mimetype": "text/x-python",
   "name": "python",
   "nbconvert_exporter": "python",
   "pygments_lexer": "ipython3",
   "version": "3.11.5"
  }
 },
 "nbformat": 4,
 "nbformat_minor": 2
}
