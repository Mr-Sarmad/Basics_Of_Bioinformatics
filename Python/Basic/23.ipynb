{
 "cells": [
  {
   "cell_type": "markdown",
   "metadata": {},
   "source": [
    "### Download Genome Assemblies Using wget or curl"
   ]
  },
  {
   "cell_type": "code",
   "execution_count": null,
   "metadata": {},
   "outputs": [],
   "source": [
    "import urllib.request\n",
    "urls = [\n",
    "    \"ftp://ftp.ensembl.org/pub/release-109/fasta/homo_sapiens/dna/Homo_sapiens.GRCh38.dna.primary_assembly.fa.gz\",\n",
    "]\n",
    "for url in urls:\n",
    "    file_name = url.split(\"/\")[-1]\n",
    "    try:\n",
    "        print(f\"Downloading {file_name} from {url}...\")\n",
    "        urllib.request.urlretrieve(url, file_name)\n",
    "        print(f\"Downloaded {file_name} successfully!\")\n",
    "    except Exception as e:\n",
    "        print(f\"Failed to download {file_name}: {e}\")"
   ]
  }
 ],
 "metadata": {
  "kernelspec": {
   "display_name": "Python 3",
   "language": "python",
   "name": "python3"
  },
  "language_info": {
   "codemirror_mode": {
    "name": "ipython",
    "version": 3
   },
   "file_extension": ".py",
   "mimetype": "text/x-python",
   "name": "python",
   "nbconvert_exporter": "python",
   "pygments_lexer": "ipython3",
   "version": "3.11.5"
  }
 },
 "nbformat": 4,
 "nbformat_minor": 2
}
