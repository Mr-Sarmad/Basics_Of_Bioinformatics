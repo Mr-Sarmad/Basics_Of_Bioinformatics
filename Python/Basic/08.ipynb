{
 "cells": [
  {
   "cell_type": "markdown",
   "metadata": {},
   "source": [
    "### Extract sequences from a GFF file based on a specific feature type (e.g., CDS or exon)"
   ]
  },
  {
   "cell_type": "code",
   "execution_count": null,
   "metadata": {},
   "outputs": [],
   "source": [
    "from Bio import SeqIO\n",
    "from BCBio import GFF\n",
    "with open(\"C:/Users/PC/Downloads/Compressed/ncbi_dataset/ncbi_dataset/data/GCF_009914755.1/genomic.gff\") as gff_file:\n",
    "    for rec in GFF.parse(gff_file, \"genbank\"):\n",
    "        for feature in rec.features:\n",
    "            if feature.type == \"CDS\":\n",
    "                print(feature.location)\n"
   ]
  }
 ],
 "metadata": {
  "kernelspec": {
   "display_name": "Python 3",
   "language": "python",
   "name": "python3"
  },
  "language_info": {
   "codemirror_mode": {
    "name": "ipython",
    "version": 3
   },
   "file_extension": ".py",
   "mimetype": "text/x-python",
   "name": "python",
   "nbconvert_exporter": "python",
   "pygments_lexer": "ipython3",
   "version": "3.11.5"
  }
 },
 "nbformat": 4,
 "nbformat_minor": 2
}
