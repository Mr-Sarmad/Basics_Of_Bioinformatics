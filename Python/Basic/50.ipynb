{
 "cells": [
  {
   "cell_type": "markdown",
   "metadata": {},
   "source": [
    "### Simulate Sequence Evolution Under a Given Substitution Model Using a Library Like BioPython"
   ]
  },
  {
   "cell_type": "code",
   "execution_count": null,
   "metadata": {},
   "outputs": [],
   "source": [
    "from Bio import Phylo\n",
    "from Bio.Phylo.TreeConstruction import DistanceCalculator, ParsimonyTreeConstructor\n",
    "from Bio import SeqIO\n",
    "\n",
    "# Load a sequence alignment (e.g., in Phylip format)\n",
    "alignment = SeqIO.parse(\"alignment.phy\", \"phylip\")\n",
    "\n",
    "# Choose a substitution model (e.g., Jukes-Cantor)\n",
    "calculator = DistanceCalculator('identity')\n",
    "distance_matrix = calculator.get_distance(alignment)\n",
    "\n",
    "# Construct a tree using the distance matrix\n",
    "constructor = ParsimonyTreeConstructor()\n",
    "tree = constructor.build_tree(distance_matrix)\n",
    "\n",
    "# Visualize the phylogenetic tree\n",
    "Phylo.draw(tree)\n"
   ]
  }
 ],
 "metadata": {
  "kernelspec": {
   "display_name": "Python 3",
   "language": "python",
   "name": "python3"
  },
  "language_info": {
   "name": "python",
   "version": "3.11.5"
  }
 },
 "nbformat": 4,
 "nbformat_minor": 2
}
