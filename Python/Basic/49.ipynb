{
 "cells": [
  {
   "cell_type": "markdown",
   "metadata": {},
   "source": [
    "### Parse a PDB File to Extract Secondary Structure Information"
   ]
  },
  {
   "cell_type": "code",
   "execution_count": null,
   "metadata": {},
   "outputs": [],
   "source": [
    "from Bio import PDB\n",
    "\n",
    "# Load PDB file\n",
    "parser = PDB.PPBuilder()\n",
    "structure = PDB.PDBParser(QUIET=True).get_structure(\"protein\", \"protein.pdb\")\n",
    "\n",
    "# Extract secondary structure information\n",
    "for model in structure:\n",
    "    for chain in model:\n",
    "        pp = parser.get_peptides(chain)\n",
    "        for peptide in pp:\n",
    "            print(f\"Peptide: {peptide.get_sequence()}\")\n",
    "\n",
    "# Note: You may need to analyze secondary structure via DSSP or another tool for detailed info\n"
   ]
  }
 ],
 "metadata": {
  "kernelspec": {
   "display_name": "Python 3",
   "language": "python",
   "name": "python3"
  },
  "language_info": {
   "name": "python",
   "version": "3.11.5"
  }
 },
 "nbformat": 4,
 "nbformat_minor": 2
}
