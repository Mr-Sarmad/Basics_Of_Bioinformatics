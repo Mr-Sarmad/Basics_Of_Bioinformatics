{
 "cells": [
  {
   "cell_type": "markdown",
   "metadata": {},
   "source": [
    "### Batch Download PDB Files"
   ]
  },
  {
   "cell_type": "code",
   "execution_count": 2,
   "metadata": {},
   "outputs": [
    {
     "name": "stdout",
     "output_type": "stream",
     "text": [
      "Downloaded 1A2B to pdb_files\\1A2B.pdb\n",
      "Downloaded 3C4D to pdb_files\\3C4D.pdb\n"
     ]
    }
   ],
   "source": [
    "import requests\n",
    "\n",
    "pdb_ids = [\"1A2B\", \"3C4D\"]\n",
    "output_dir = \"pdb_files\"  # Directory to save PDB files\n",
    "\n",
    "# Ensure the output directory exists\n",
    "os.makedirs(output_dir, exist_ok=True)\n",
    "\n",
    "for pdb_id in pdb_ids:\n",
    "    url = f\"https://files.rcsb.org/download/{pdb_id}.pdb\"\n",
    "    output_file = os.path.join(output_dir, f\"{pdb_id}.pdb\")\n",
    "    \n",
    "    try:\n",
    "        response = requests.get(url, timeout=10)  # Set a timeout for the request\n",
    "        if response.status_code == 200:\n",
    "            with open(output_file, 'w') as f:\n",
    "                f.write(response.text)\n",
    "            print(f\"Downloaded {pdb_id} to {output_file}\")\n",
    "        else:\n",
    "            print(f\"Failed to download {pdb_id}: HTTP {response.status_code}\")\n",
    "    except Exception as e:\n",
    "        print(f\"Error downloading {pdb_id}: {e}\")\n"
   ]
  }
 ],
 "metadata": {
  "kernelspec": {
   "display_name": "Python 3",
   "language": "python",
   "name": "python3"
  },
  "language_info": {
   "codemirror_mode": {
    "name": "ipython",
    "version": 3
   },
   "file_extension": ".py",
   "mimetype": "text/x-python",
   "name": "python",
   "nbconvert_exporter": "python",
   "pygments_lexer": "ipython3",
   "version": "3.11.5"
  }
 },
 "nbformat": 4,
 "nbformat_minor": 2
}
