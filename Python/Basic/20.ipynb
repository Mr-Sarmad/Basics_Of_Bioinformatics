{
 "cells": [
  {
   "cell_type": "markdown",
   "metadata": {},
   "source": [
    "### Extract Promoter Regions"
   ]
  },
  {
   "cell_type": "code",
   "execution_count": 1,
   "metadata": {},
   "outputs": [],
   "source": [
    "from Bio import SeqIO\n",
    "fasta_file = \"C:/Users/PC/Downloads/sequence (1).fasta\"\n",
    "output_file = \"promoters.fasta\"\n",
    "promoter_length = 1000\n",
    "with open(output_file, \"w\") as out:\n",
    "    for record in SeqIO.parse(fasta_file, \"fasta\"):\n",
    "        promoter = record.seq[:promoter_length]\n",
    "        out.write(f\">{record.id}_promoter\\n{promoter}\\n\")\n"
   ]
  }
 ],
 "metadata": {
  "kernelspec": {
   "display_name": "Python 3",
   "language": "python",
   "name": "python3"
  },
  "language_info": {
   "codemirror_mode": {
    "name": "ipython",
    "version": 3
   },
   "file_extension": ".py",
   "mimetype": "text/x-python",
   "name": "python",
   "nbconvert_exporter": "python",
   "pygments_lexer": "ipython3",
   "version": "3.11.5"
  }
 },
 "nbformat": 4,
 "nbformat_minor": 2
}
