{
 "cells": [
  {
   "cell_type": "markdown",
   "metadata": {},
   "source": [
    "### Calculate pairwise sequence identity between two FASTA files"
   ]
  },
  {
   "cell_type": "code",
   "execution_count": 1,
   "metadata": {},
   "outputs": [
    {
     "data": {
      "text/plain": [
       "22.448979591836736"
      ]
     },
     "execution_count": 1,
     "metadata": {},
     "output_type": "execute_result"
    }
   ],
   "source": [
    "from Bio import SeqIO\n",
    "\n",
    "def pairwise_identity(fasta1, fasta2):\n",
    "    seq1 = str(next(SeqIO.parse(fasta1, \"fasta\")).seq)\n",
    "    seq2 = str(next(SeqIO.parse(fasta2, \"fasta\")).seq)\n",
    "    matches = sum(a == b for a, b in zip(seq1, seq2))\n",
    "    return matches / len(seq1) * 100\n",
    "\n",
    "pairwise_identity(\"C:/Users/PC/Downloads/sequence (3).fasta\", \"C:/Users/PC/Downloads/sequence (2).fasta\")\n"
   ]
  }
 ],
 "metadata": {
  "kernelspec": {
   "display_name": "Python 3",
   "language": "python",
   "name": "python3"
  },
  "language_info": {
   "codemirror_mode": {
    "name": "ipython",
    "version": 3
   },
   "file_extension": ".py",
   "mimetype": "text/x-python",
   "name": "python",
   "nbconvert_exporter": "python",
   "pygments_lexer": "ipython3",
   "version": "3.11.5"
  }
 },
 "nbformat": 4,
 "nbformat_minor": 2
}
