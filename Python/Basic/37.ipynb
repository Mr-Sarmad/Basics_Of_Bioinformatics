{
 "cells": [
  {
   "cell_type": "markdown",
   "metadata": {},
   "source": [
    "### Parse a phylogenetic tree file (Newick format) and list all leaf node names"
   ]
  },
  {
   "cell_type": "code",
   "execution_count": 1,
   "metadata": {},
   "outputs": [
    {
     "data": {
      "text/plain": [
       "['Streptococcus gwangjuense strain ChDC B345 chromosome, complete genome',\n",
       " 'Streptococcus mitis B6 complete genome, strain B6',\n",
       " 'Streptococcus mitis strain LMG 14557 chromosome, complete genome',\n",
       " 'Streptococcus mitis strain FDAARGOS 1456 chromosome, complete genome',\n",
       " 'Streptococcus mitis strain FDAARGOS_684 chromosome, complete genome',\n",
       " 'Streptococcus mitis NCTC 12261 chromosome, complete genome',\n",
       " 'Streptococcus mitis strain S022-V3-A4 chromosome, complete genome',\n",
       " 'NZ_CP012646.1:451372-451812 Streptococcus mitis strain KCOM 1350 (= ChDC B183) chromosome, complete genome',\n",
       " 'Streptococcus mitis strain KCOM 1350 (= ChDC B183), complete genome']"
      ]
     },
     "execution_count": 1,
     "metadata": {},
     "output_type": "execute_result"
    }
   ],
   "source": [
    "from Bio import Phylo\n",
    "\n",
    "def list_leaf_nodes(newick_file):\n",
    "    tree = Phylo.read(newick_file, \"newick\")\n",
    "    return [clade.name for clade in tree.get_terminals()]\n",
    "\n",
    "# Example usage\n",
    "list_leaf_nodes(\"C:/Users/PC/Downloads/tree.nwk\")\n"
   ]
  }
 ],
 "metadata": {
  "kernelspec": {
   "display_name": "Python 3",
   "language": "python",
   "name": "python3"
  },
  "language_info": {
   "codemirror_mode": {
    "name": "ipython",
    "version": 3
   },
   "file_extension": ".py",
   "mimetype": "text/x-python",
   "name": "python",
   "nbconvert_exporter": "python",
   "pygments_lexer": "ipython3",
   "version": "3.11.5"
  }
 },
 "nbformat": 4,
 "nbformat_minor": 2
}
