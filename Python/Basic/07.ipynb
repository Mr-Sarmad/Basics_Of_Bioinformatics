{
 "cells": [
  {
   "cell_type": "markdown",
   "metadata": {},
   "source": [
    "### Split a large FASTA file into smaller files containing 100 sequences each"
   ]
  },
  {
   "cell_type": "code",
   "execution_count": 1,
   "metadata": {},
   "outputs": [],
   "source": [
    "from Bio import SeqIO\n",
    "\n",
    "sequences = list(SeqIO.parse(\"C:/Users/PC/Downloads/sequence (3).fasta\", \"fasta\"))\n",
    "seqs_per_file = 100\n",
    "\n",
    "for i in range(0, len(sequences), seqs_per_file):\n",
    "    with open(f\"output_{i//seqs_per_file + 1}.fasta\", \"w\") as outfile:\n",
    "        SeqIO.write(sequences[i:i+seqs_per_file], outfile, \"fasta\")\n"
   ]
  }
 ],
 "metadata": {
  "kernelspec": {
   "display_name": "Python 3",
   "language": "python",
   "name": "python3"
  },
  "language_info": {
   "codemirror_mode": {
    "name": "ipython",
    "version": 3
   },
   "file_extension": ".py",
   "mimetype": "text/x-python",
   "name": "python",
   "nbconvert_exporter": "python",
   "pygments_lexer": "ipython3",
   "version": "3.11.5"
  }
 },
 "nbformat": 4,
 "nbformat_minor": 2
}
