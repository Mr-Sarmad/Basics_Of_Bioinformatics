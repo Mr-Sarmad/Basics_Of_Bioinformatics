{
 "cells": [
  {
   "cell_type": "markdown",
   "metadata": {},
   "source": [
    "### Find motifs in a given DNA sequence using regular expressions"
   ]
  },
  {
   "cell_type": "code",
   "execution_count": 5,
   "metadata": {},
   "outputs": [
    {
     "name": "stdout",
     "output_type": "stream",
     "text": [
      "Motif positions in NZ_CP012646.1:451372-451812: [8, 12, 27, 50, 54, 65, 88, 94, 102, 122, 134, 171, 195, 198, 210, 267, 269, 300, 312, 320, 338, 366, 404, 417]\n"
     ]
    }
   ],
   "source": [
    "import re\n",
    "from Bio import SeqIO\n",
    "\n",
    "def find_motifs(dna_sequence, motif):\n",
    "    # Find all positions where the motif occurs\n",
    "    return [match.start() for match in re.finditer(motif, dna_sequence)]\n",
    "\n",
    "fasta_file = \"C:/Users/PC/Downloads/sequence (3).fasta\"\n",
    "\n",
    "for record in SeqIO.parse(fasta_file, \"fasta\"):\n",
    "    dna_sequence = str(record.seq)\n",
    "    motif_positions = find_motifs(dna_sequence, \"GC\")\n",
    "    print(f\"Motif positions in {record.id}: {motif_positions}\")\n"
   ]
  }
 ],
 "metadata": {
  "kernelspec": {
   "display_name": "Python 3",
   "language": "python",
   "name": "python3"
  },
  "language_info": {
   "codemirror_mode": {
    "name": "ipython",
    "version": 3
   },
   "file_extension": ".py",
   "mimetype": "text/x-python",
   "name": "python",
   "nbconvert_exporter": "python",
   "pygments_lexer": "ipython3",
   "version": "3.11.5"
  }
 },
 "nbformat": 4,
 "nbformat_minor": 2
}
