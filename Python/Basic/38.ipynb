{
 "cells": [
  {
   "cell_type": "markdown",
   "metadata": {},
   "source": [
    "### Calculate Ka/Ks ratios from codon-aligned sequences\n",
    "* This is complex and typically requires external tools like PAML or HyPhy. Python and R can serve as wrappers to these tools."
   ]
  },
  {
   "cell_type": "code",
   "execution_count": 3,
   "metadata": {},
   "outputs": [
    {
     "name": "stdout",
     "output_type": "stream",
     "text": [
      "Ka/Ks Ratio: None\n"
     ]
    }
   ],
   "source": [
    "from Bio import AlignIO\n",
    "from Bio.Seq import Seq\n",
    "\n",
    "def calculate_kaks(alignment):\n",
    "    \"\"\"\n",
    "    Calculate Ka/Ks ratio from a codon-aligned sequence alignment.\n",
    "    Ka = non-synonymous substitutions, Ks = synonymous substitutions.\n",
    "    \"\"\"\n",
    "    synonymous = 0\n",
    "    non_synonymous = 0\n",
    "    total_sites = 0\n",
    "\n",
    "    # Iterate over all columns of the alignment (which represent codons)\n",
    "    for column in range(0, alignment.get_alignment_length(), 3):\n",
    "        # Extract the codon (3 nucleotides) for each sequence\n",
    "        codons = [str(record.seq[column:column + 3]) for record in alignment]\n",
    "\n",
    "        # Skip columns that are too short to form a full codon (less than 3 nucleotides)\n",
    "        if len(codons[0]) != 3:\n",
    "            continue\n",
    "\n",
    "        # Remove any gaps\n",
    "        codons = [codon for codon in codons if '-' not in codon]\n",
    "\n",
    "        if len(codons) < 2:  # Skip if there's not enough data for comparison\n",
    "            continue\n",
    "        \n",
    "        # Compare each pair of codons\n",
    "        for i in range(len(codons)):\n",
    "            for j in range(i + 1, len(codons)):\n",
    "                codon1 = codons[i]\n",
    "                codon2 = codons[j]\n",
    "\n",
    "                if is_synonymous(codon1, codon2):\n",
    "                    synonymous += 1\n",
    "                else:\n",
    "                    non_synonymous += 1\n",
    "                total_sites += 1\n",
    "\n",
    "    # Calculate Ka/Ks\n",
    "    if total_sites == 0:\n",
    "        return None\n",
    "    Ka_Ks_ratio = non_synonymous / synonymous if synonymous > 0 else float('inf')\n",
    "\n",
    "    return Ka_Ks_ratio\n",
    "\n",
    "def is_synonymous(codon1, codon2):\n",
    "    \"\"\"\n",
    "    Check if two codons are synonymous.\n",
    "    \"\"\"\n",
    "    if len(codon1) != 3 or len(codon2) != 3:\n",
    "        return False\n",
    "    \n",
    "    # Translate the codons to amino acids\n",
    "    aa1 = Seq(codon1).translate()\n",
    "    aa2 = Seq(codon2).translate()\n",
    "\n",
    "    return aa1 == aa2  # Corrected this line (was 'aa22' before)\n",
    "\n",
    "# Load codon-aligned sequences from a file\n",
    "alignment_file = \"C:/Users/PC/Downloads/sequence (3).fasta\"\n",
    "alignment = AlignIO.read(alignment_file, \"fasta\")\n",
    "\n",
    "# Calculate the Ka/Ks ratio\n",
    "kaks = calculate_kaks(alignment)\n",
    "print(f\"Ka/Ks Ratio: {kaks}\")\n"
   ]
  }
 ],
 "metadata": {
  "kernelspec": {
   "display_name": "Python 3",
   "language": "python",
   "name": "python3"
  },
  "language_info": {
   "codemirror_mode": {
    "name": "ipython",
    "version": 3
   },
   "file_extension": ".py",
   "mimetype": "text/x-python",
   "name": "python",
   "nbconvert_exporter": "python",
   "pygments_lexer": "ipython3",
   "version": "3.11.5"
  }
 },
 "nbformat": 4,
 "nbformat_minor": 2
}
