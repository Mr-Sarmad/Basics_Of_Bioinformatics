{
 "cells": [
  {
   "cell_type": "markdown",
   "metadata": {},
   "source": [
    "### Simulate random mutations in a DNA sequence with a given mutation rate"
   ]
  },
  {
   "cell_type": "code",
   "execution_count": 1,
   "metadata": {},
   "outputs": [
    {
     "name": "stdout",
     "output_type": "stream",
     "text": [
      "ATGCGACAGCTAGCGTTGGATATCGATGCTTTTTTGAATGAGGTGATTTTGCAGTCAGAAAATCAGCACGAAATCCTAATAGGTCATTGCACTAGCGACTTGGCTCTGACCAATACCCAGGAGCATATCCTCATGCTCTTGTCAGAGGAATCTTTAACAAATACAGAGTTGGCCCGTCGTCTCTATGTCAGTCAGGCGGTAGTTACCAAGTCTATTAAGTCTTTAGTCAAGGAAGGGATGTTGGAAACATCTAAAGATCCTAAGGATGCGAATGTCATTTGTTATCATTTGACTGATTGGGCTCGTACAATTGCTGAGGAGCATCATCATCGCCATGAGCATACACTTTTGACCTATGAACAAGTGGCTACTCAATTTACTCGAAGTGAACAAAAAGTGATTCAGCGGTTTTTGACTGCTATAGTAGGAGAAATCAACTAA\n"
     ]
    }
   ],
   "source": [
    "import random\n",
    "\n",
    "def mutate_dna(dna_sequence, mutation_rate):\n",
    "    bases = \"ACGT\"\n",
    "    mutated = \"\".join(\n",
    "        base if random.random() > mutation_rate else random.choice(bases)\n",
    "        for base in dna_sequence\n",
    "    )\n",
    "    return mutated\n",
    "from Bio import SeqIO\n",
    "fasta_file = \"C:/Users/PC/Downloads/sequence (3).fasta\"\n",
    "for record in SeqIO.parse(fasta_file, \"fasta\"):\n",
    "    dna_sequence = str(record.seq)\n",
    "print(mutate_dna(dna_sequence, 0.1))\n"
   ]
  }
 ],
 "metadata": {
  "kernelspec": {
   "display_name": "Python 3",
   "language": "python",
   "name": "python3"
  },
  "language_info": {
   "codemirror_mode": {
    "name": "ipython",
    "version": 3
   },
   "file_extension": ".py",
   "mimetype": "text/x-python",
   "name": "python",
   "nbconvert_exporter": "python",
   "pygments_lexer": "ipython3",
   "version": "3.11.5"
  }
 },
 "nbformat": 4,
 "nbformat_minor": 2
}
