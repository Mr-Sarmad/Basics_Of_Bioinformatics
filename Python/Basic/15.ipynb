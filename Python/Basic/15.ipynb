{
 "cells": [
  {
   "cell_type": "markdown",
   "metadata": {},
   "source": [
    "### Generate a BED File from a GFF File"
   ]
  },
  {
   "cell_type": "code",
   "execution_count": 1,
   "metadata": {},
   "outputs": [],
   "source": [
    "import pandas as pd\n",
    "\n",
    "gff_file = \"C:/Users/PC/Downloads/Compressed/ncbi_dataset_2/ncbi_dataset/data/GCF_000001405.40/genomic.gtf\"\n",
    "df = pd.read_csv(gff_file, sep=\"\\t\", comment='#', header=None)\n",
    "df.columns = ['chrom', 'source', 'feature', 'start', 'end', 'score', 'strand', 'frame', 'attribute']\n",
    "bed = df[['chrom', 'start', 'end']].copy()\n",
    "bed['start'] -= 1  # BED format uses 0-based indexing\n",
    "bed.to_csv(\"output.bed\", sep=\"\\t\", header=False, index=False)\n"
   ]
  }
 ],
 "metadata": {
  "kernelspec": {
   "display_name": "Python 3",
   "language": "python",
   "name": "python3"
  },
  "language_info": {
   "codemirror_mode": {
    "name": "ipython",
    "version": 3
   },
   "file_extension": ".py",
   "mimetype": "text/x-python",
   "name": "python",
   "nbconvert_exporter": "python",
   "pygments_lexer": "ipython3",
   "version": "3.11.5"
  }
 },
 "nbformat": 4,
 "nbformat_minor": 2
}
