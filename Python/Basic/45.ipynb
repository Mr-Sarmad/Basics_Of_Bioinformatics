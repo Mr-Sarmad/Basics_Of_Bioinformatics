{
 "cells": [
  {
   "cell_type": "markdown",
   "metadata": {},
   "source": [
    "### Analyze MSA file for conservation scores"
   ]
  },
  {
   "cell_type": "code",
   "execution_count": 1,
   "metadata": {},
   "outputs": [],
   "source": [
    "from Bio import AlignIO\n",
    "import numpy as np\n",
    "\n",
    "# Load MSA file\n",
    "alignment = AlignIO.read(\"alignment.fasta\", \"fasta\")\n",
    "\n",
    "# Calculate conservation score for each column\n",
    "conservation_scores = []\n",
    "for col in range(alignment.get_alignment_length()):\n",
    "    column = alignment[:, col]\n",
    "    unique_bases = set(column)\n",
    "    conservation_score = len(unique_bases) / len(alignment)\n",
    "    conservation_scores.append(conservation_score)\n",
    "\n",
    "# Output conservation scores\n",
    "print(conservation_scores)\n"
   ]
  }
 ],
 "metadata": {
  "kernelspec": {
   "display_name": "Python 3",
   "language": "python",
   "name": "python3"
  },
  "language_info": {
   "codemirror_mode": {
    "name": "ipython",
    "version": 3
   },
   "file_extension": ".py",
   "mimetype": "text/x-python",
   "name": "python",
   "nbconvert_exporter": "python",
   "pygments_lexer": "ipython3",
   "version": "3.11.5"
  }
 },
 "nbformat": 4,
 "nbformat_minor": 2
}
