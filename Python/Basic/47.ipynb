{
 "cells": [
  {
   "cell_type": "markdown",
   "metadata": {},
   "source": [
    "### Create a Pipeline to Run BLAST on Multiple Input Sequences and Summarize the Results"
   ]
  },
  {
   "cell_type": "code",
   "execution_count": null,
   "metadata": {},
   "outputs": [],
   "source": [
    "from Bio.Blast.Applications import NcbiblastnCommandline\n",
    "from Bio import SeqIO\n",
    "import os\n",
    "\n",
    "# Function to run BLAST on a sequence file\n",
    "def run_blast(input_file, output_file):\n",
    "    blastn_cline = NcbiblastnCommandline(query=input_file, db=\"nt\", evalue=0.001, outfmt=5, out=output_file)\n",
    "    blastn_cline()\n",
    "\n",
    "# List of input sequences\n",
    "input_files = [\"seq1.fasta\", \"seq2.fasta\", \"seq3.fasta\"]\n",
    "\n",
    "# Run BLAST on all sequences and save results\n",
    "for file in input_files:\n",
    "    output_file = file.replace(\".fasta\", \"_blast.xml\")\n",
    "    run_blast(file, output_file)\n",
    "\n",
    "# Function to summarize BLAST results\n",
    "from Bio.Blast import NCBIXML\n",
    "def summarize_blast_results(blast_files):\n",
    "    for blast_file in blast_files:\n",
    "        with open(blast_file) as result_handle:\n",
    "            blast_records = NCBIXML.parse(result_handle)\n",
    "            for record in blast_records:\n",
    "                print(f\"Query: {record.query}\")\n",
    "                for alignment in record.alignments:\n",
    "                    print(f\"Hit: {alignment.hit_id} E-value: {alignment.hsps[0].expect}\")\n",
    "                    \n",
    "# Summarize results\n",
    "blast_output_files = [file.replace(\".fasta\", \"_blast.xml\") for file in input_files]\n",
    "summarize_blast_results(blast_output_files)\n"
   ]
  }
 ],
 "metadata": {
  "kernelspec": {
   "display_name": "Python 3",
   "language": "python",
   "name": "python3"
  },
  "language_info": {
   "name": "python",
   "version": "3.11.5"
  }
 },
 "nbformat": 4,
 "nbformat_minor": 2
}
