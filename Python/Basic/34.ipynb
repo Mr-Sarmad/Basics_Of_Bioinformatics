{
 "cells": [
  {
   "cell_type": "markdown",
   "metadata": {},
   "source": [
    "### Identify palindromic sequences in a DNA sequence file"
   ]
  },
  {
   "cell_type": "code",
   "execution_count": 1,
   "metadata": {},
   "outputs": [
    {
     "name": "stdout",
     "output_type": "stream",
     "text": [
      "['GACAG', 'AGCGA', 'GAAG', 'AGGA', 'TTTT', 'TTTTT', 'TTTTTT', 'TTTT', 'TTTTT', 'TTTT', 'TTTT', 'AAAA', 'AATCCTAA', 'ATCCTA', 'TCCT', 'TAAT', 'AGCGA', 'GGTGG', 'ACCA', 'ACCCA', 'AGGA', 'TCCT', 'AGGA', 'AACAA', 'GTTG', 'GCCCG', 'GGCGG', 'CGGC', 'ACCA', 'ATTA', 'TGGT', 'AAGGAA', 'AGGA', 'GGAAGG', 'GAAG', 'AGGGA', 'GTTG', 'ATCTA', 'ATCCTA', 'TCCT', 'AGGA', 'TGCGCGT', 'GCGCG', 'TAAT', 'ATTTTTTA', 'TTTT', 'TTTTT', 'TTTTTT', 'TTTT', 'TTTTT', 'TTTT', 'TCAGTTGACT', 'CAGTTGAC', 'AGTTGA', 'GTTG', 'GCTCG', 'GAGGAG', 'AGGA', 'ACCA', 'CATAC', 'TTTT', 'TGAACAAGT', 'GAACAAG', 'AACAA', 'ACTCA', 'AACAA', 'AAAA', 'AAAAA', 'AAAA', 'AGTGA', 'GTTTTTG', 'TTTT', 'TTTTT', 'TTTT', 'AGGA', 'AATAA']\n"
     ]
    }
   ],
   "source": [
    "def find_palindromes(dna_sequence, min_length=4):\n",
    "    palindromes = []\n",
    "    for i in range(len(dna_sequence)):\n",
    "        for j in range(i + min_length, len(dna_sequence) + 1):\n",
    "            segment = dna_sequence[i:j]\n",
    "            if segment == segment[::-1]:\n",
    "                palindromes.append(segment)\n",
    "    return palindromes\n",
    "from Bio import SeqIO\n",
    "fasta_file = \"C:/Users/PC/Downloads/sequence (3).fasta\"\n",
    "for record in SeqIO.parse(fasta_file, \"fasta\"):\n",
    "    dna_sequence = str(record.seq)\n",
    "print(find_palindromes(dna_sequence))\n"
   ]
  }
 ],
 "metadata": {
  "kernelspec": {
   "display_name": "Python 3",
   "language": "python",
   "name": "python3"
  },
  "language_info": {
   "codemirror_mode": {
    "name": "ipython",
    "version": 3
   },
   "file_extension": ".py",
   "mimetype": "text/x-python",
   "name": "python",
   "nbconvert_exporter": "python",
   "pygments_lexer": "ipython3",
   "version": "3.11.5"
  }
 },
 "nbformat": 4,
 "nbformat_minor": 2
}
