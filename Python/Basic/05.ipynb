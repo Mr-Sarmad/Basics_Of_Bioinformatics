{
 "cells": [
  {
   "cell_type": "markdown",
   "metadata": {},
   "source": [
    "### Convert a multi-line FASTA format into a single-line FASTA format "
   ]
  },
  {
   "cell_type": "code",
   "execution_count": 1,
   "metadata": {},
   "outputs": [],
   "source": [
    "from Bio import SeqIO\n",
    "# Convert multi-line FASTA to single-line FASTA\n",
    "with open(\"C:/Users/PC/Downloads/sequence (3).fasta\", \"r\") as infile, open(\"single_line.fasta\", \"w\") as outfile:\n",
    "    for record in SeqIO.parse(infile, \"fasta\"):\n",
    "        outfile.write(f\">{record.id}\\n{str(record.seq)}\\n\")\n"
   ]
  }
 ],
 "metadata": {
  "kernelspec": {
   "display_name": "Python 3",
   "language": "python",
   "name": "python3"
  },
  "language_info": {
   "codemirror_mode": {
    "name": "ipython",
    "version": 3
   },
   "file_extension": ".py",
   "mimetype": "text/x-python",
   "name": "python",
   "nbconvert_exporter": "python",
   "pygments_lexer": "ipython3",
   "version": "3.11.5"
  }
 },
 "nbformat": 4,
 "nbformat_minor": 2
}
