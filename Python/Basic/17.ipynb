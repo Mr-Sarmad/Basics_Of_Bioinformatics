{
 "cells": [
  {
   "cell_type": "markdown",
   "metadata": {},
   "source": [
    "###  Identify the Longest ORF"
   ]
  },
  {
   "cell_type": "code",
   "execution_count": 2,
   "metadata": {},
   "outputs": [
    {
     "name": "stdout",
     "output_type": "stream",
     "text": [
      "Longest ORF length: 441\n"
     ]
    }
   ],
   "source": [
    "from Bio import SeqIO\n",
    "\n",
    "def find_orfs(sequence):\n",
    "    sequence = str(sequence).upper()\n",
    "    start_codon = \"ATG\"\n",
    "    stop_codons = {\"TAA\", \"TAG\", \"TGA\"}\n",
    "    longest_orf = 0\n",
    "\n",
    "    for frame in range(3):\n",
    "        i = frame\n",
    "        while i < len(sequence) - 2:\n",
    "            codon = sequence[i:i+3]\n",
    "            if codon == start_codon:  # Start of an ORF\n",
    "                for j in range(i+3, len(sequence)-2, 3):\n",
    "                    stop_codon = sequence[j:j+3]\n",
    "                    if stop_codon in stop_codons:\n",
    "                        orf_length = j + 3 - i\n",
    "                        longest_orf = max(longest_orf, orf_length)\n",
    "                        break\n",
    "            i += 3\n",
    "    return longest_orf\n",
    "\n",
    "fasta_file = \"C:/Users/PC/Downloads/sequence (3).fasta\"\n",
    "longest_orf = 0\n",
    "for record in SeqIO.parse(fasta_file, \"fasta\"):\n",
    "    orf_length = find_orfs(record.seq)\n",
    "    longest_orf = max(longest_orf, orf_length)\n",
    "\n",
    "print(f\"Longest ORF length: {longest_orf}\")\n"
   ]
  }
 ],
 "metadata": {
  "kernelspec": {
   "display_name": "Python 3",
   "language": "python",
   "name": "python3"
  },
  "language_info": {
   "codemirror_mode": {
    "name": "ipython",
    "version": 3
   },
   "file_extension": ".py",
   "mimetype": "text/x-python",
   "name": "python",
   "nbconvert_exporter": "python",
   "pygments_lexer": "ipython3",
   "version": "3.11.5"
  }
 },
 "nbformat": 4,
 "nbformat_minor": 2
}
