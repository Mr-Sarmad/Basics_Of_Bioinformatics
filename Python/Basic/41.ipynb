{
 "cells": [
  {
   "cell_type": "markdown",
   "metadata": {},
   "source": [
    "### Extract and visualize coverage depth from a BAM file"
   ]
  },
  {
   "cell_type": "code",
   "execution_count": null,
   "metadata": {},
   "outputs": [],
   "source": [
    "import pysam\n",
    "import matplotlib.pyplot as plt\n",
    "\n",
    "def plot_coverage(bam_file, region=None):\n",
    "    bam = pysam.AlignmentFile(bam_file, \"rb\")\n",
    "    coverage = bam.count_coverage(region=region) if region else bam.count_coverage()\n",
    "    total_coverage = [sum(col) for col in zip(*coverage)]\n",
    "    \n",
    "    plt.figure(figsize=(10, 5))\n",
    "    plt.plot(total_coverage, label=\"Coverage\")\n",
    "    plt.xlabel(\"Position\")\n",
    "    plt.ylabel(\"Coverage Depth\")\n",
    "    plt.title(\"Coverage Depth Plot\")\n",
    "    plt.legend()\n",
    "    plt.show()\n",
    "\n",
    "# Example usage\n",
    "# plot_coverage(\"example.bam\")\n"
   ]
  }
 ],
 "metadata": {
  "kernelspec": {
   "display_name": "Python 3",
   "language": "python",
   "name": "python3"
  },
  "language_info": {
   "name": "python",
   "version": "3.11.5"
  }
 },
 "nbformat": 4,
 "nbformat_minor": 2
}
