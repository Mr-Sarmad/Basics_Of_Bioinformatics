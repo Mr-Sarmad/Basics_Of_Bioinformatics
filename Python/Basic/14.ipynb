{
 "cells": [
  {
   "cell_type": "markdown",
   "metadata": {},
   "source": [
    "### Extract and Save Unique Gene Names from a GTF File"
   ]
  },
  {
   "cell_type": "code",
   "execution_count": 1,
   "metadata": {},
   "outputs": [],
   "source": [
    "import pandas as pd\n",
    "gtf_file = \"C:/Users/PC/Downloads/Compressed/ncbi_dataset_2/ncbi_dataset/data/GCF_000001405.40/genomic.gtf\"\n",
    "df = pd.read_csv(gtf_file, sep=\"\\t\", comment='#', header=None)\n",
    "df.columns = ['seqname', 'source', 'feature', 'start', 'end', 'score', 'strand', 'frame', 'attribute']\n",
    "genes = df['attribute'].str.extract('gene_name \"([^\"]+)\"')[0].dropna().unique()\n",
    "pd.Series(genes).to_csv(\"unique_genes.txt\", index=False, header=False)\n"
   ]
  }
 ],
 "metadata": {
  "kernelspec": {
   "display_name": "Python 3",
   "language": "python",
   "name": "python3"
  },
  "language_info": {
   "codemirror_mode": {
    "name": "ipython",
    "version": 3
   },
   "file_extension": ".py",
   "mimetype": "text/x-python",
   "name": "python",
   "nbconvert_exporter": "python",
   "pygments_lexer": "ipython3",
   "version": "3.11.5"
  }
 },
 "nbformat": 4,
 "nbformat_minor": 2
}
