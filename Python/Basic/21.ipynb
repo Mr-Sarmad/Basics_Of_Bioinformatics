{
 "cells": [
  {
   "cell_type": "markdown",
   "metadata": {},
   "source": [
    "### Fetch Protein Sequences from UniProt by Accession IDs"
   ]
  },
  {
   "cell_type": "code",
   "execution_count": 1,
   "metadata": {},
   "outputs": [
    {
     "name": "stdout",
     "output_type": "stream",
     "text": [
      ">sp|P12345|AATM_RABIT Aspartate aminotransferase, mitochondrial OS=Oryctolagus cuniculus OX=9986 GN=GOT2 PE=1 SV=2\n",
      "MALLHSARVLSGVASAFHPGLAAAASARASSWWAHVEMGPPDPILGVTEAYKRDTNSKKM\n",
      "NLGVGAYRDDNGKPYVLPSVRKAEAQIAAKGLDKEYLPIGGLAEFCRASAELALGENSEV\n",
      "VKSGRFVTVQTISGTGALRIGASFLQRFFKFSRDVFLPKPSWGNHTPIFRDAGMQLQSYR\n",
      "YYDPKTCGFDFTGALEDISKIPEQSVLLLHACAHNPTGVDPRPEQWKEIATVVKKRNLFA\n",
      "FFDMAYQGFASGDGDKDAWAVRHFIEQGINVCLCQSYAKNMGLYGERVGAFTVICKDADE\n",
      "AKRVESQLKILIRPMYSNPPIHGARIASTILTSPDLRKQWLQEVKGMADRIIGMRTQLVS\n",
      "NLKKEGSTHSWQHITDQIGMFCFTGLKPEQVERLTKEFSIYMTKDGRISVAGVTSGNVGY\n",
      "LAHAIHQVTK\n",
      "\n",
      ">tr|Q67890|Q67890_HBV Large envelope protein OS=Hepatitis B virus OX=10407 GN=Pre S1,Pre S2,S PE=3 SV=1\n",
      "MGQNLSTSNPLGFFPDHQLDPAFRANTANPDWDFNPNKDTWPDANKVGAGAFGLGFTPPH\n",
      "GGLLGWSPQAQGILQTLPANPPPASTNRQSGRQPTPLSPPLRNTHPQAMQWNSTTFHQTL\n",
      "QDPRVRGLYFPAGGSSSGTVNPVLTTASPLSSISARTGDPVTIMENITSGFLGPLLVLEA\n",
      "GFFLLTRILTIPQSLDSWWTSLNFLGGTTVCLGQNSQSPTSHHSPTSCPPICPGYRWMCL\n",
      "RRFIIFLFILLLCLIFLLVLLDYQGMLPVCPLIPGTSTTSTGPCRTCTTPAQGTSMYPSC\n",
      "CCTKPSDGNCTCIPIPSSWAFGKFLWQWASARFSWLSLLVPFVQWFVGLSPTVWVSAIWM\n",
      "MWYWGPSLYSIVSPFIPLLPIFFCLWVYI\n",
      "\n"
     ]
    }
   ],
   "source": [
    "import requests\n",
    "\n",
    "accession_ids = [\"P12345\", \"Q67890\"]\n",
    "for acc_id in accession_ids:\n",
    "    url = f\"https://www.uniprot.org/uniprot/{acc_id}.fasta\"\n",
    "    response = requests.get(url)\n",
    "    if response.status_code == 200:\n",
    "        print(response.text)\n",
    "    else:\n",
    "        print(f\"Failed to fetch {acc_id}\")\n"
   ]
  }
 ],
 "metadata": {
  "kernelspec": {
   "display_name": "Python 3",
   "language": "python",
   "name": "python3"
  },
  "language_info": {
   "codemirror_mode": {
    "name": "ipython",
    "version": 3
   },
   "file_extension": ".py",
   "mimetype": "text/x-python",
   "name": "python",
   "nbconvert_exporter": "python",
   "pygments_lexer": "ipython3",
   "version": "3.11.5"
  }
 },
 "nbformat": 4,
 "nbformat_minor": 2
}
