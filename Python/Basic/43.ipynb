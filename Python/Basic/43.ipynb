{
 "cells": [
  {
   "cell_type": "markdown",
   "metadata": {},
   "source": [
    "### Parse a HMMER output file and extract significant hits"
   ]
  },
  {
   "cell_type": "code",
   "execution_count": 3,
   "metadata": {},
   "outputs": [],
   "source": [
    "def parse_hmmer(file, evalue_threshold=1e-5):\n",
    "    significant_hits = []\n",
    "    with open(file) as f:\n",
    "        for line in f:\n",
    "            if not line.startswith(\"#\"):\n",
    "                parts = line.split()\n",
    "                if float(parts[4]) < evalue_threshold:\n",
    "                    significant_hits.append((parts[0], float(parts[4])))\n",
    "    return significant_hits\n",
    "\n",
    "# Example usage\n",
    "# parse_hmmer(\"hmmer_output.txt\")\n"
   ]
  }
 ],
 "metadata": {
  "kernelspec": {
   "display_name": "Python 3",
   "language": "python",
   "name": "python3"
  },
  "language_info": {
   "codemirror_mode": {
    "name": "ipython",
    "version": 3
   },
   "file_extension": ".py",
   "mimetype": "text/x-python",
   "name": "python",
   "nbconvert_exporter": "python",
   "pygments_lexer": "ipython3",
   "version": "3.11.5"
  }
 },
 "nbformat": 4,
 "nbformat_minor": 2
}
